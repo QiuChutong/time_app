{
  "nbformat": 4,
  "nbformat_minor": 0,
  "metadata": {
    "colab": {
      "name": "run.ipynb",
      "provenance": [],
      "authorship_tag": "ABX9TyPDzjJ0piZK7CZS5JM92TA9",
      "include_colab_link": true
    },
    "kernelspec": {
      "name": "python3",
      "display_name": "Python 3"
    },
    "language_info": {
      "name": "python"
    }
  },
  "cells": [
    {
      "cell_type": "markdown",
      "metadata": {
        "id": "view-in-github",
        "colab_type": "text"
      },
      "source": [
        "<a href=\"https://colab.research.google.com/github/QiuChutong/time_app/blob/main/run.ipynb\" target=\"_parent\"><img src=\"https://colab.research.google.com/assets/colab-badge.svg\" alt=\"Open In Colab\"/></a>"
      ]
    },
    {
      "cell_type": "code",
      "execution_count": 5,
      "metadata": {
        "id": "hlobi0NH-u4K"
      },
      "outputs": [],
      "source": [
        "import datetime\n",
        "from flask import Flask\n",
        "app = Flask(__name__)\n",
        "\n",
        "\n",
        "@app.route('/')\n",
        "def hello_world():\n",
        "    return 'Hello world!'\n",
        "\n",
        "@app.route('time')\n",
        "def now_time():\n",
        "  now_time = datetime.datetime.now().strftime('%H:%M:%S; %m-%d-%y')\n",
        "  return now_time\n",
        "\n",
        "app.run(host='0.0.0.0',\n",
        "        port=8080,\n",
        "        debug=True)"
      ]
    }
  ]
}